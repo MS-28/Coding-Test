{
 "cells": [
  {
   "cell_type": "code",
   "execution_count": 57,
   "id": "388f6d45",
   "metadata": {},
   "outputs": [],
   "source": [
    "#Structuring the data\n",
    "import numpy as np\n",
    "import pandas as pd\n",
    "import json\n",
    "import matplotlib.pyplot as plt\n",
    "from datetime import datetime"
   ]
  },
  {
   "cell_type": "code",
   "execution_count": 88,
   "id": "e2c4e6ea",
   "metadata": {},
   "outputs": [],
   "source": [
    "receipts = pd.read_json('receipts.json', lines=True)\n",
    "receipts['_id'] = receipts['_id'].apply(lambda x: x['$oid'])\n",
    "def DateTime(df, col):\n",
    "  list=[]\n",
    "  for x in df[col].values:\n",
    "    if type(x) == float:\n",
    "      list.append(np.nan)\n",
    "    else:\n",
    "      list.append(pd.to_datetime(datetime.fromtimestamp(x['$date'] // 1000)))\n",
    "  df[col] = list\n",
    "  return df\n",
    "date_cols = ['createDate', 'dateScanned', 'finishedDate',\n",
    "             'modifyDate', 'pointsAwardedDate', 'purchaseDate']\n",
    "for col in date_cols:\n",
    "  receipts = DateTime(receipts, col)"
   ]
  },
  {
   "cell_type": "code",
   "execution_count": 89,
   "id": "4538d5fe",
   "metadata": {},
   "outputs": [],
   "source": [
    "\n",
    "users = pd.read_json('users.json', lines=True)\n",
    "\n",
    "\n",
    "users['_id'] = users['_id'].apply(lambda x: x['$oid'])\n",
    "\n",
    "\n",
    "date_cols = ['createdDate', 'lastLogin']\n",
    "for col in date_cols:\n",
    "  users = DateTime(users, col)"
   ]
  },
  {
   "cell_type": "code",
   "execution_count": 90,
   "id": "400ac16b",
   "metadata": {},
   "outputs": [],
   "source": [
    "\n",
    "brands = pd.read_json('brands.json', lines=True)\n",
    "\n",
    "\n",
    "brands['_id'] = brands['_id'].apply(lambda x: x['$oid'])"
   ]
  },
  {
   "cell_type": "code",
   "execution_count": 91,
   "id": "c3798ed2",
   "metadata": {},
   "outputs": [],
   "source": [
    "\n",
    "cpg = pd.DataFrame()\n",
    "id=[]\n",
    "oid=[]\n",
    "ref=[]\n",
    "\n",
    "for i in range(len(brands['cpg'])):\n",
    "  x = brands['cpg'].iloc[i]\n",
    "  if type(x) != float:\n",
    "      oid.append(brands['cpg'][i]['$id']['$oid'])\n",
    "      ref.append(brands['cpg'][i]['$ref'])\n",
    "      id.append(brands.iloc[i]['_id'])\n",
    "\n",
    "cpg['id'] = id\n",
    "cpg['oid'] = oid\n",
    "cpg['ref'] = ref"
   ]
  },
  {
   "cell_type": "code",
   "execution_count": 93,
   "id": "89f39d9b",
   "metadata": {},
   "outputs": [],
   "source": [
    "brands = brands.merge(cpg, left_on='_id', right_on='id', how='left').drop('id', axis=1)"
   ]
  },
  {
   "cell_type": "code",
   "execution_count": 94,
   "id": "6bba07dd",
   "metadata": {},
   "outputs": [
    {
     "data": {
      "text/plain": [
       "_id               0\n",
       "barcode           0\n",
       "category        155\n",
       "categoryCode    650\n",
       "cpg               0\n",
       "name              0\n",
       "topBrand        612\n",
       "brandCode       234\n",
       "oid_x             0\n",
       "ref_x             0\n",
       "oid_y             0\n",
       "ref_y             0\n",
       "dtype: int64"
      ]
     },
     "execution_count": 94,
     "metadata": {},
     "output_type": "execute_result"
    }
   ],
   "source": [
    "#Finding Null Values to detect quality issues\n",
    "receipts.isna().sum()\n",
    "users.isna().sum()\n",
    "brands.isna().sum()"
   ]
  },
  {
   "cell_type": "code",
   "execution_count": 72,
   "id": "c2ca13bc",
   "metadata": {},
   "outputs": [],
   "source": [
    "# What are the top 5 brands by receipts scanned for most recent month?\n",
    "\n",
    "#SELECT CASE \tWHEN  \t\t( SELECT avg( totalSpent ) FROM receipts WHERE rewardsReceiptStatus = 'FINISHED' )  \t\t>  \t\t( SELECT avg( totalSpent ) FROM receipts WHERE rewardsReceiptStatus = 'REJECTED' ) \tTHEN \"Average spend from receipts with 'rewardsReceiptStatus’ of ‘Accepted’ is greater\"         WHEN  \t\t( SELECT avg( totalSpent ) FROM receipts WHERE rewardsReceiptStatus = 'FINISHED' )  \t\t<  \t\t( SELECT avg( totalSpent ) FROM receipts WHERE rewardsReceiptStatus = 'REJECTED' )         THEN \"Average spend from receipts with 'rewardsReceiptStatus’ of ‘Rejected’ is greater\" \tELSE \"They are the same\" \tEND AS COMPARING ;"
   ]
  }
 ],
 "metadata": {
  "kernelspec": {
   "display_name": "Python 3",
   "language": "python",
   "name": "python3"
  },
  "language_info": {
   "codemirror_mode": {
    "name": "ipython",
    "version": 3
   },
   "file_extension": ".py",
   "mimetype": "text/x-python",
   "name": "python",
   "nbconvert_exporter": "python",
   "pygments_lexer": "ipython3",
   "version": "3.8.8"
  }
 },
 "nbformat": 4,
 "nbformat_minor": 5
}
